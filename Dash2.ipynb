{
 "cells": [
  {
   "cell_type": "code",
   "execution_count": 58,
   "id": "f73bac20",
   "metadata": {},
   "outputs": [],
   "source": [
    "import dash\n",
    "import dash_core_components as dcc\n",
    "import dash_html_components as html"
   ]
  },
  {
   "cell_type": "code",
   "execution_count": 60,
   "id": "4138e452",
   "metadata": {},
   "outputs": [
    {
     "name": "stdout",
     "output_type": "stream",
     "text": [
      "Requirement already satisfied: plotly in c:\\users\\derrick.muiru\\anaconda3\\lib\\site-packages (5.2.1)\n",
      "Requirement already satisfied: six in c:\\users\\derrick.muiru\\anaconda3\\lib\\site-packages (from plotly) (1.15.0)\n",
      "Requirement already satisfied: tenacity>=6.2.0 in c:\\users\\derrick.muiru\\anaconda3\\lib\\site-packages (from plotly) (8.0.1)\n"
     ]
    }
   ],
   "source": [
    "!pip install plotly"
   ]
  },
  {
   "cell_type": "code",
   "execution_count": 61,
   "id": "67f8448a",
   "metadata": {},
   "outputs": [],
   "source": [
    "app = dash.Dash()"
   ]
  },
  {
   "cell_type": "code",
   "execution_count": 62,
   "id": "f9e36aa3",
   "metadata": {},
   "outputs": [],
   "source": [
    "# colors = {\n",
    "#     'text':'ff0000',\n",
    "#     'plot_color':'#D3D3D3',\n",
    "#     'paper_color':'#69be28'\n",
    "# }"
   ]
  },
  {
   "cell_type": "code",
   "execution_count": 63,
   "id": "2e2342df",
   "metadata": {},
   "outputs": [],
   "source": [
    "# app.layout = html.Div([\n",
    "#     html.H1(children ='Hello Dash!!!',\n",
    "#            style = {\n",
    "#                'textAlign':'center',\n",
    "#                'color':'#69be28'\n",
    "#            }\n",
    "#            ),\n",
    "#     html.Div(children = 'Dash a Data development Framework from plotty',\n",
    "#            style = {\n",
    "#                'textAlign':'center',\n",
    "#                'color':colors['paper_color']\n",
    "#            }\n",
    "            \n",
    "#             ),\n",
    "    \n",
    "#     dcc.Graph(\n",
    "#         id= 'sample-graph',\n",
    "#         figure = {\n",
    "#             'data':[\n",
    "#     {'x':[4,6,8],'y':[12,16,18],'type':'bar','name':'First SF'},\n",
    "#      {'x':[4,6,8],'y':[11,19,24],'type':'bar','name':'Seconf SF'}\n",
    "#                 ],\n",
    "#             'layout':{\n",
    "#                 'plot_bgcolor':colors['plot_color'],\n",
    "#                 'paper_bgcolor':colors['paper_color'],\n",
    "#                 'font':{\n",
    "#                     'color':'#69be28'\n",
    "#                 },\n",
    "#                 'title':'Simple Bar Chart'\n",
    "#             }\n",
    "#     }\n",
    "#     )\n",
    "# ])"
   ]
  },
  {
   "cell_type": "code",
   "execution_count": 64,
   "id": "bb4ea625",
   "metadata": {},
   "outputs": [],
   "source": [
    "import numpy as np\n",
    "import plotly.graph_objs as go "
   ]
  },
  {
   "cell_type": "code",
   "execution_count": 53,
   "id": "2f19aee4",
   "metadata": {},
   "outputs": [],
   "source": [
    "#For same results \n",
    "np.random.seed(42)\n",
    "x_rand = np.random.randint(1,61,60)\n",
    "y_rand = np.random.randint(1,61,60)"
   ]
  },
  {
   "cell_type": "code",
   "execution_count": 65,
   "id": "c6067dc0",
   "metadata": {},
   "outputs": [],
   "source": [
    "app = dash.Dash()"
   ]
  },
  {
   "cell_type": "code",
   "execution_count": 14,
   "id": "e823fcc5",
   "metadata": {},
   "outputs": [],
   "source": [
    "app.layout = html.Div([\n",
    "    \n",
    "    dcc.Graph(\n",
    "        id ='scatter_chart',\n",
    "        figure = {\n",
    "            'data' : [\n",
    "                go.Scatter(\n",
    "                    x = x_rand,\n",
    "                    y = y_rand,\n",
    "                    mode = 'markers'\n",
    "                )\n",
    "            ],\n",
    "            'layout': go.Layout(\n",
    "             title= 'Scatter plot of 60 random points',\n",
    "             xaxis= {'title':'Random X values'},\n",
    "             yaxis ={'title':'Random Y values'}   \n",
    "            )\n",
    "        }\n",
    "    )\n",
    "])"
   ]
  },
  {
   "cell_type": "code",
   "execution_count": null,
   "id": "aa449c0b",
   "metadata": {},
   "outputs": [
    {
     "name": "stdout",
     "output_type": "stream",
     "text": [
      "Dash is running on http://127.0.0.1:4051/\n",
      "\n",
      "Dash is running on http://127.0.0.1:4051/\n",
      "\n",
      " * Serving Flask app \"__main__\" (lazy loading)\n",
      " * Environment: production\n",
      "   WARNING: This is a development server. Do not use it in a production deployment.\n",
      "   Use a production WSGI server instead.\n",
      " * Debug mode: off\n"
     ]
    },
    {
     "name": "stderr",
     "output_type": "stream",
     "text": [
      " * Running on http://127.0.0.1:4051/ (Press CTRL+C to quit)\n",
      "127.0.0.1 - - [27/Aug/2021 09:26:51] \"\u001b[37mGET / HTTP/1.1\u001b[0m\" 200 -\n",
      "127.0.0.1 - - [27/Aug/2021 09:26:52] \"\u001b[37mGET /_dash-component-suites/dash/deps/polyfill@7.v1_21_0m1629534113.12.1.min.js HTTP/1.1\u001b[0m\" 200 -\n",
      "127.0.0.1 - - [27/Aug/2021 09:26:52] \"\u001b[37mGET /_dash-component-suites/dash/deps/react@16.v1_21_0m1629534113.14.0.min.js HTTP/1.1\u001b[0m\" 200 -\n",
      "127.0.0.1 - - [27/Aug/2021 09:26:52] \"\u001b[37mGET /_dash-component-suites/dash/deps/react-dom@16.v1_21_0m1629534113.14.0.min.js HTTP/1.1\u001b[0m\" 200 -\n",
      "127.0.0.1 - - [27/Aug/2021 09:26:52] \"\u001b[37mGET /_dash-component-suites/dash/deps/prop-types@15.v1_21_0m1629534113.7.2.min.js HTTP/1.1\u001b[0m\" 200 -\n",
      "127.0.0.1 - - [27/Aug/2021 09:26:52] \"\u001b[37mGET /_dash-component-suites/dash_html_components/dash_html_components.v1_1_4m1629534112.min.js HTTP/1.1\u001b[0m\" 200 -\n",
      "127.0.0.1 - - [27/Aug/2021 09:26:52] \"\u001b[37mGET /_dash-component-suites/dash_core_components/dash_core_components.v1_17_1m1629534113.js HTTP/1.1\u001b[0m\" 200 -\n",
      "127.0.0.1 - - [27/Aug/2021 09:26:52] \"\u001b[37mGET /_dash-component-suites/dash_core_components/dash_core_components-shared.v1_17_1m1629534113.js HTTP/1.1\u001b[0m\" 200 -\n",
      "127.0.0.1 - - [27/Aug/2021 09:26:52] \"\u001b[37mGET /_dash-component-suites/dash/dash-renderer/build/dash_renderer.v1_21_0m1629534113.min.js HTTP/1.1\u001b[0m\" 200 -\n",
      "127.0.0.1 - - [27/Aug/2021 09:26:52] \"\u001b[37mGET /_dash-layout HTTP/1.1\u001b[0m\" 200 -\n",
      "127.0.0.1 - - [27/Aug/2021 09:26:52] \"\u001b[37mGET /_dash-dependencies HTTP/1.1\u001b[0m\" 200 -\n",
      "127.0.0.1 - - [27/Aug/2021 09:26:52] \"\u001b[37mGET /_favicon.ico?v=1.21.0 HTTP/1.1\u001b[0m\" 200 -\n",
      "127.0.0.1 - - [27/Aug/2021 09:26:52] \"\u001b[37mGET /_dash-component-suites/dash_core_components/async-graph.js HTTP/1.1\u001b[0m\" 200 -\n",
      "127.0.0.1 - - [27/Aug/2021 09:26:52] \"\u001b[37mGET /_dash-component-suites/dash_core_components/async-plotlyjs.js HTTP/1.1\u001b[0m\" 200 -\n"
     ]
    }
   ],
   "source": [
    "if __name__ == '__main__':\n",
    "   app.run_server(port= 4051)\n",
    "#app.run_server(mode='inline')"
   ]
  },
  {
   "cell_type": "code",
   "execution_count": null,
   "id": "90cd1312",
   "metadata": {},
   "outputs": [],
   "source": []
  },
  {
   "cell_type": "code",
   "execution_count": null,
   "id": "bcaa50de",
   "metadata": {},
   "outputs": [],
   "source": []
  },
  {
   "cell_type": "code",
   "execution_count": null,
   "id": "aaa5d138",
   "metadata": {},
   "outputs": [],
   "source": []
  }
 ],
 "metadata": {
  "kernelspec": {
   "display_name": "Python 3",
   "language": "python",
   "name": "python3"
  },
  "language_info": {
   "codemirror_mode": {
    "name": "ipython",
    "version": 3
   },
   "file_extension": ".py",
   "mimetype": "text/x-python",
   "name": "python",
   "nbconvert_exporter": "python",
   "pygments_lexer": "ipython3",
   "version": "3.8.8"
  }
 },
 "nbformat": 4,
 "nbformat_minor": 5
}
